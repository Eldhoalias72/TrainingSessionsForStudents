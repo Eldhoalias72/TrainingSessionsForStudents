{
  "nbformat": 4,
  "nbformat_minor": 0,
  "metadata": {
    "colab": {
      "provenance": [],
      "include_colab_link": true
    },
    "kernelspec": {
      "name": "python3",
      "display_name": "Python 3"
    },
    "language_info": {
      "name": "python"
    }
  },
  "cells": [
    {
      "cell_type": "markdown",
      "metadata": {
        "id": "view-in-github",
        "colab_type": "text"
      },
      "source": [
        "<a href=\"https://colab.research.google.com/github/Eldhoalias72/TrainingSessionsForStudents/blob/main/multiple_linear_regression.ipynb\" target=\"_parent\"><img src=\"https://colab.research.google.com/assets/colab-badge.svg\" alt=\"Open In Colab\"/></a>"
      ]
    },
    {
      "cell_type": "code",
      "source": [
        "from google.colab import drive\n",
        "drive.mount('/content/drive')"
      ],
      "metadata": {
        "id": "qImmJjyko2Uu",
        "outputId": "c6207d30-6ab8-4f31-aa36-ff44ee333d5a",
        "colab": {
          "base_uri": "https://localhost:8080/"
        }
      },
      "execution_count": 3,
      "outputs": [
        {
          "output_type": "stream",
          "name": "stdout",
          "text": [
            "Mounted at /content/drive\n"
          ]
        }
      ]
    },
    {
      "cell_type": "code",
      "execution_count": 4,
      "metadata": {
        "colab": {
          "base_uri": "https://localhost:8080/"
        },
        "id": "fIiCnpJSpOf2",
        "outputId": "3f5524f2-b39a-4885-eab0-89ecbc9ab6fb"
      },
      "outputs": [
        {
          "output_type": "stream",
          "name": "stdout",
          "text": [
            "Coefficients: [ 156.48414986 7809.79827089]\n",
            "Intercept: 87406.34005763676\n",
            "Predictions: [361210.37463977 462910.66282421]\n",
            "Coefficient for square footage: 156.48414985590787\n",
            "Coefficient for number of bedrooms: 7809.798270893372\n"
          ]
        }
      ],
      "source": [
        "import numpy as np\n",
        "import pandas as pd\n",
        "from sklearn.linear_model import LinearRegression\n",
        "\n",
        "# Load data from CSV file\n",
        "\n",
        "# Assuming your file 'houseprice.csv' is in 'My Drive/data'\n",
        "data = pd.read_csv('/content/houseprice.csv')  # Replace 'data.csv' with your file path if needed\n",
        "\n",
        "# Separate features (X) and target (y)\n",
        "X = data[['square_footage', 'bedrooms']].values  # Features\n",
        "y = data['price'].values  # Target\n",
        "\n",
        "# Create a Linear Regression model\n",
        "model = LinearRegression()\n",
        "\n",
        "# Train the model (fit the data)\n",
        "model.fit(X, y)\n",
        "\n",
        "# Get the coefficients (slopes) and intercept\n",
        "coefficients = model.coef_\n",
        "intercept = model.intercept_\n",
        "\n",
        "print(\"Coefficients:\", coefficients)\n",
        "print(\"Intercept:\", intercept)\n",
        "\n",
        "# Make predictions\n",
        "new_data = np.array([[1600, 3], [2200, 4]])  # Example new data\n",
        "predictions = model.predict(new_data)\n",
        "\n",
        "print(\"Predictions:\", predictions)\n",
        "\n",
        "# Example of accessing single values.\n",
        "print(f\"Coefficient for square footage: {coefficients[0]}\")\n",
        "print(f\"Coefficient for number of bedrooms: {coefficients[1]}\")\n"
      ]
    }
  ]
}