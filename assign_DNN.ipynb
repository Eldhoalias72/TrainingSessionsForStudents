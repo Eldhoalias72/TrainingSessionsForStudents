{
  "nbformat": 4,
  "nbformat_minor": 0,
  "metadata": {
    "colab": {
      "provenance": [],
      "include_colab_link": true
    },
    "kernelspec": {
      "name": "python3",
      "display_name": "Python 3"
    },
    "language_info": {
      "name": "python"
    }
  },
  "cells": [
    {
      "cell_type": "markdown",
      "metadata": {
        "id": "view-in-github",
        "colab_type": "text"
      },
      "source": [
        "<a href=\"https://colab.research.google.com/github/Eldhoalias72/TrainingSessionsForStudents/blob/main/assign_DNN.ipynb\" target=\"_parent\"><img src=\"https://colab.research.google.com/assets/colab-badge.svg\" alt=\"Open In Colab\"/></a>"
      ]
    },
    {
      "cell_type": "code",
      "execution_count": 1,
      "metadata": {
        "id": "S6c63OPQjF8d"
      },
      "outputs": [],
      "source": [
        "import tensorflow as tf\n",
        "from tensorflow import keras\n",
        "from tensorflow.keras.layers import Dense, Flatten, Rescaling\n",
        "import matplotlib.pyplot as plt\n",
        "import os\n",
        "import numpy as np\n",
        "\n"
      ]
    },
    {
      "cell_type": "code",
      "source": [
        "# 1. Mount Google Drive\n",
        "from google.colab import drive\n",
        "drive.mount('/content/drive')\n",
        "\n",
        "# Define dataset paths\n",
        "base_dir = \"/content/drive/MyDrive/handwritten/handwritten/\"\n",
        "train_dir = os.path.join(base_dir, \"train\")\n",
        "test_dir = os.path.join(base_dir, \"test\")\n",
        "\n",
        "# Image parameters\n",
        "img_height = 28\n",
        "img_width = 28\n",
        "batch_size = 32\n",
        "\n"
      ],
      "metadata": {
        "colab": {
          "base_uri": "https://localhost:8080/"
        },
        "id": "Ps1CEdVEjL_l",
        "outputId": "ef4ed469-dae3-49d1-9ebb-1a7e039842ef"
      },
      "execution_count": 4,
      "outputs": [
        {
          "output_type": "stream",
          "name": "stdout",
          "text": [
            "Drive already mounted at /content/drive; to attempt to forcibly remount, call drive.mount(\"/content/drive\", force_remount=True).\n"
          ]
        }
      ]
    },
    {
      "cell_type": "code",
      "source": [
        "# 2. Load dataset from Drive\n",
        "train_ds = keras.preprocessing.image_dataset_from_directory(\n",
        "    train_dir,\n",
        "    image_size=(img_height, img_width),\n",
        "    color_mode=\"grayscale\",  # Convert to grayscale\n",
        "    batch_size=batch_size,\n",
        "    label_mode=\"categorical\"  # One-hot encoded labels\n",
        ")\n",
        "test_ds = keras.preprocessing.image_dataset_from_directory(\n",
        "    test_dir,\n",
        "    image_size=(img_height, img_width),\n",
        "    color_mode=\"grayscale\",\n",
        "    batch_size=batch_size,\n",
        "    label_mode=\"categorical\"\n",
        ")\n",
        "\n",
        "# Optimize dataset loading\n",
        "AUTOTUNE = tf.data.AUTOTUNE\n",
        "train_ds = train_ds.prefetch(buffer_size=AUTOTUNE)\n",
        "test_ds = test_ds.prefetch(buffer_size=AUTOTUNE)\n",
        "\n"
      ],
      "metadata": {
        "colab": {
          "base_uri": "https://localhost:8080/"
        },
        "id": "sU_YEaYCjQOA",
        "outputId": "162502ba-726f-4a9a-b113-07199cb50ded"
      },
      "execution_count": 5,
      "outputs": [
        {
          "output_type": "stream",
          "name": "stdout",
          "text": [
            "Found 307 files belonging to 10 classes.\n",
            "Found 133 files belonging to 10 classes.\n"
          ]
        }
      ]
    },
    {
      "cell_type": "code",
      "source": [
        "# 3. Define the model\n",
        "model = keras.Sequential([\n",
        "    Rescaling(1.0 / 255, input_shape=(img_height, img_width, 1)),  # Normalize input images\n",
        "    Flatten(),  # Flatten image to 1D array\n",
        "    Dense(128, activation='relu'),\n",
        "    Dense(10, activation='softmax')\n",
        "])\n",
        "\n"
      ],
      "metadata": {
        "id": "aYAq5lnBjSVD",
        "colab": {
          "base_uri": "https://localhost:8080/"
        },
        "outputId": "08e386e5-c1fb-44dd-c2de-a71a68fd388f"
      },
      "execution_count": 6,
      "outputs": [
        {
          "output_type": "stream",
          "name": "stderr",
          "text": [
            "/usr/local/lib/python3.11/dist-packages/keras/src/layers/preprocessing/tf_data_layer.py:19: UserWarning: Do not pass an `input_shape`/`input_dim` argument to a layer. When using Sequential models, prefer using an `Input(shape)` object as the first layer in the model instead.\n",
            "  super().__init__(**kwargs)\n"
          ]
        }
      ]
    },
    {
      "cell_type": "code",
      "source": [
        "# 4. Compile the model\n",
        "model.compile(optimizer='adam',\n",
        "              loss='categorical_crossentropy',\n",
        "              metrics=['accuracy'])\n"
      ],
      "metadata": {
        "id": "LapkHZE0jUz3"
      },
      "execution_count": 7,
      "outputs": []
    },
    {
      "cell_type": "code",
      "source": [
        "# 5. Train the model\n",
        "model.fit(train_ds, epochs=5)\n",
        "\n",
        "# 6. Evaluate on test data\n",
        "loss, accuracy = model.evaluate(test_ds, verbose=1)\n",
        "print('Test loss:', loss)\n",
        "print('Test accuracy:', accuracy)\n",
        "\n"
      ],
      "metadata": {
        "id": "OftCF01BjXYq",
        "colab": {
          "base_uri": "https://localhost:8080/"
        },
        "outputId": "fc212a2e-e77d-4b78-97db-ee7f47c5ae27"
      },
      "execution_count": 8,
      "outputs": [
        {
          "output_type": "stream",
          "name": "stdout",
          "text": [
            "Epoch 1/5\n",
            "\u001b[1m10/10\u001b[0m \u001b[32m━━━━━━━━━━━━━━━━━━━━\u001b[0m\u001b[37m\u001b[0m \u001b[1m35s\u001b[0m 3s/step - accuracy: 0.1395 - loss: 2.5203\n",
            "Epoch 2/5\n",
            "\u001b[1m10/10\u001b[0m \u001b[32m━━━━━━━━━━━━━━━━━━━━\u001b[0m\u001b[37m\u001b[0m \u001b[1m9s\u001b[0m 192ms/step - accuracy: 0.1961 - loss: 2.2296\n",
            "Epoch 3/5\n",
            "\u001b[1m10/10\u001b[0m \u001b[32m━━━━━━━━━━━━━━━━━━━━\u001b[0m\u001b[37m\u001b[0m \u001b[1m2s\u001b[0m 129ms/step - accuracy: 0.2593 - loss: 2.0577\n",
            "Epoch 4/5\n",
            "\u001b[1m10/10\u001b[0m \u001b[32m━━━━━━━━━━━━━━━━━━━━\u001b[0m\u001b[37m\u001b[0m \u001b[1m2s\u001b[0m 118ms/step - accuracy: 0.3113 - loss: 1.9578\n",
            "Epoch 5/5\n",
            "\u001b[1m10/10\u001b[0m \u001b[32m━━━━━━━━━━━━━━━━━━━━\u001b[0m\u001b[37m\u001b[0m \u001b[1m2s\u001b[0m 159ms/step - accuracy: 0.3670 - loss: 1.8661\n",
            "\u001b[1m5/5\u001b[0m \u001b[32m━━━━━━━━━━━━━━━━━━━━\u001b[0m\u001b[37m\u001b[0m \u001b[1m15s\u001b[0m 3s/step - accuracy: 0.2822 - loss: 2.0336\n",
            "Test loss: 2.0249743461608887\n",
            "Test accuracy: 0.29323309659957886\n"
          ]
        }
      ]
    },
    {
      "cell_type": "code",
      "source": [
        "# 7. Make predictions (optional)\n",
        "predictions = model.predict(test_ds)\n",
        "predicted_labels = tf.argmax(predictions, axis=1)\n",
        "\n",
        "# Convert predictions to numpy array\n",
        "predicted_labels = predicted_labels.numpy()\n",
        "print(\"Predicted labels:\", predicted_labels)"
      ],
      "metadata": {
        "id": "EQtb7ZtsjZw1",
        "colab": {
          "base_uri": "https://localhost:8080/"
        },
        "outputId": "da3b0851-1d4e-45a3-c438-973bb2d88ff1"
      },
      "execution_count": 9,
      "outputs": [
        {
          "output_type": "stream",
          "name": "stdout",
          "text": [
            "\u001b[1m5/5\u001b[0m \u001b[32m━━━━━━━━━━━━━━━━━━━━\u001b[0m\u001b[37m\u001b[0m \u001b[1m1s\u001b[0m 125ms/step\n",
            "Predicted labels: [8 2 9 8 8 9 2 9 0 9 2 0 6 8 8 8 8 8 2 8 6 6 6 2 8 8 6 8 6 2 9 8 6 9 6 5 8\n",
            " 6 8 0 6 2 8 6 8 9 9 5 9 9 6 2 9 9 9 9 9 9 2 2 2 8 6 6 8 9 6 8 8 9 6 8 9 9\n",
            " 8 8 6 9 6 6 6 2 6 6 9 9 6 9 0 9 9 9 6 6 2 6 6 9 8 9 9 8 8 9 2 6 2 9 6 9 6\n",
            " 9 9 6 9 6 2 2 2 2 9 9 9 9 9 0 2 8 8 8 2 2 9]\n"
          ]
        }
      ]
    }
  ]
}